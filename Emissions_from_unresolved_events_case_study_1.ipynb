{
 "cells": [
  {
   "cell_type": "code",
   "execution_count": 1,
   "id": "b2ad9634-97ea-4241-abe5-abead3a0d379",
   "metadata": {},
   "outputs": [],
   "source": [
    "import numpy as np \n",
    "import random\n",
    "import pandas as pd \n",
    "import matplotlib.pyplot as plt \n",
    "from datetime import datetime, timedelta\n",
    "import netCDF4 as nc\n",
    "import bisect\n",
    "from scipy.stats import gaussian_kde\n",
    "from scipy.stats import lognorm, norm"
   ]
  },
  {
   "cell_type": "code",
   "execution_count": 2,
   "id": "777801bc-d0c1-4304-b8ff-1c134b37d989",
   "metadata": {},
   "outputs": [],
   "source": [
    "def hours_since_datetime(current_datetime,target_datetime):\n",
    "    time_difference = current_datetime - target_datetime\n",
    "    hours_difference = time_difference.total_seconds() / 3600\n",
    "    return hours_difference"
   ]
  },
  {
   "cell_type": "markdown",
   "id": "93fc444c-eff8-4e76-92f0-7fb8d8108fab",
   "metadata": {},
   "source": [
    "#### Load ERA5 Wind data "
   ]
  },
  {
   "cell_type": "code",
   "execution_count": 3,
   "id": "bfb8b2fc-1fa4-418d-ac78-f551aaf0af82",
   "metadata": {},
   "outputs": [],
   "source": [
    "wind_data = nc.Dataset(\"weather_permian.nc\")\n",
    "u10 = wind_data.variables[\"u10\"][:]\n",
    "v10 = wind_data.variables[\"v10\"][:]\n",
    "ws = (u10**2 + v10**2)**0.5\n",
    "wind_data.close()"
   ]
  },
  {
   "cell_type": "code",
   "execution_count": 4,
   "id": "e0efb09e-9ef2-4466-bbd4-7019233349d4",
   "metadata": {},
   "outputs": [],
   "source": [
    "wind_speed = ws.copy()\n",
    "wind_speed = list(wind_speed.flatten())"
   ]
  },
  {
   "cell_type": "markdown",
   "id": "89f3a9be-c551-439e-a791-46adac9052ef",
   "metadata": {},
   "source": [
    "#### Load events "
   ]
  },
  {
   "cell_type": "code",
   "execution_count": 5,
   "id": "d4022c2e-1826-4427-9193-55840c411bda",
   "metadata": {},
   "outputs": [],
   "source": [
    "events = pd.read_csv(\"events_with_uncertianty_case_study_1.csv\")"
   ]
  },
  {
   "cell_type": "code",
   "execution_count": 6,
   "id": "68507ac4-b5fa-4ac0-a47b-09cec595e0a1",
   "metadata": {},
   "outputs": [
    {
     "data": {
      "text/html": [
       "<div>\n",
       "<style scoped>\n",
       "    .dataframe tbody tr th:only-of-type {\n",
       "        vertical-align: middle;\n",
       "    }\n",
       "\n",
       "    .dataframe tbody tr th {\n",
       "        vertical-align: top;\n",
       "    }\n",
       "\n",
       "    .dataframe thead th {\n",
       "        text-align: right;\n",
       "    }\n",
       "</style>\n",
       "<table border=\"1\" class=\"dataframe\">\n",
       "  <thead>\n",
       "    <tr style=\"text-align: right;\">\n",
       "      <th></th>\n",
       "      <th>event_ID</th>\n",
       "      <th>event_type</th>\n",
       "      <th>source</th>\n",
       "      <th>start_time</th>\n",
       "      <th>end_time</th>\n",
       "      <th>duration</th>\n",
       "      <th>rate</th>\n",
       "      <th>quantity</th>\n",
       "      <th>duration_simulation</th>\n",
       "      <th>duration_lower</th>\n",
       "      <th>duration_upper</th>\n",
       "      <th>rate_lower</th>\n",
       "      <th>rate_upper</th>\n",
       "    </tr>\n",
       "  </thead>\n",
       "  <tbody>\n",
       "    <tr>\n",
       "      <th>0</th>\n",
       "      <td>Event-01</td>\n",
       "      <td>RE</td>\n",
       "      <td>Compressor-2</td>\n",
       "      <td>2024-01-10 07:30:00</td>\n",
       "      <td>2024-03-18 09:15:00</td>\n",
       "      <td>1633.750000</td>\n",
       "      <td>1.835673</td>\n",
       "      <td>2999.031431</td>\n",
       "      <td>False</td>\n",
       "      <td>0.0</td>\n",
       "      <td>0.0</td>\n",
       "      <td>1.101404</td>\n",
       "      <td>1.101404</td>\n",
       "    </tr>\n",
       "    <tr>\n",
       "      <th>1</th>\n",
       "      <td>Event-02</td>\n",
       "      <td>RE</td>\n",
       "      <td>Compressor-3</td>\n",
       "      <td>2024-01-08 09:35:00</td>\n",
       "      <td>2024-02-29 17:25:00</td>\n",
       "      <td>1255.833333</td>\n",
       "      <td>1.208226</td>\n",
       "      <td>1517.330272</td>\n",
       "      <td>False</td>\n",
       "      <td>0.0</td>\n",
       "      <td>0.0</td>\n",
       "      <td>0.724935</td>\n",
       "      <td>0.724935</td>\n",
       "    </tr>\n",
       "  </tbody>\n",
       "</table>\n",
       "</div>"
      ],
      "text/plain": [
       "   event_ID event_type        source           start_time  \\\n",
       "0  Event-01         RE  Compressor-2  2024-01-10 07:30:00   \n",
       "1  Event-02         RE  Compressor-3  2024-01-08 09:35:00   \n",
       "\n",
       "              end_time     duration      rate     quantity  \\\n",
       "0  2024-03-18 09:15:00  1633.750000  1.835673  2999.031431   \n",
       "1  2024-02-29 17:25:00  1255.833333  1.208226  1517.330272   \n",
       "\n",
       "   duration_simulation  duration_lower  duration_upper  rate_lower  rate_upper  \n",
       "0                False             0.0             0.0    1.101404    1.101404  \n",
       "1                False             0.0             0.0    0.724935    0.724935  "
      ]
     },
     "execution_count": 6,
     "metadata": {},
     "output_type": "execute_result"
    }
   ],
   "source": [
    "events.head(2)"
   ]
  },
  {
   "cell_type": "code",
   "execution_count": 7,
   "id": "80d95845-61bc-49f0-af4d-bcd1c6ec43a2",
   "metadata": {},
   "outputs": [],
   "source": [
    "durations = list(events[\"duration\"])"
   ]
  },
  {
   "cell_type": "markdown",
   "id": "9430b80b-37c0-4a77-a1ed-31467e3071ca",
   "metadata": {},
   "source": [
    "#### Load component-scale leak rate data "
   ]
  },
  {
   "cell_type": "code",
   "execution_count": 8,
   "id": "bdc18d95-cb6c-4e3b-81f9-0e15ab2f99b2",
   "metadata": {},
   "outputs": [],
   "source": [
    "leak_rates = pd.read_csv(\"sample_leak_rate.csv\")"
   ]
  },
  {
   "cell_type": "code",
   "execution_count": 9,
   "id": "50d628d9-d32c-4b17-bf16-fd87dedd1bbc",
   "metadata": {},
   "outputs": [
    {
     "data": {
      "text/html": [
       "<div>\n",
       "<style scoped>\n",
       "    .dataframe tbody tr th:only-of-type {\n",
       "        vertical-align: middle;\n",
       "    }\n",
       "\n",
       "    .dataframe tbody tr th {\n",
       "        vertical-align: top;\n",
       "    }\n",
       "\n",
       "    .dataframe thead th {\n",
       "        text-align: right;\n",
       "    }\n",
       "</style>\n",
       "<table border=\"1\" class=\"dataframe\">\n",
       "  <thead>\n",
       "    <tr style=\"text-align: right;\">\n",
       "      <th></th>\n",
       "      <th>gpersec</th>\n",
       "    </tr>\n",
       "  </thead>\n",
       "  <tbody>\n",
       "    <tr>\n",
       "      <th>0</th>\n",
       "      <td>0.003452</td>\n",
       "    </tr>\n",
       "    <tr>\n",
       "      <th>1</th>\n",
       "      <td>0.016511</td>\n",
       "    </tr>\n",
       "  </tbody>\n",
       "</table>\n",
       "</div>"
      ],
      "text/plain": [
       "    gpersec\n",
       "0  0.003452\n",
       "1  0.016511"
      ]
     },
     "execution_count": 9,
     "metadata": {},
     "output_type": "execute_result"
    }
   ],
   "source": [
    "leak_rates.head(2)"
   ]
  },
  {
   "cell_type": "code",
   "execution_count": 10,
   "id": "702f071a-0047-4f9c-bc17-4c20fa3fd136",
   "metadata": {},
   "outputs": [],
   "source": [
    "leaks = list(leak_rates[\"gpersec\"])\n",
    "leaks_dist = []\n",
    "for le in leaks: \n",
    "    if le == 0: \n",
    "        leaks_dist.append(0.0001)\n",
    "    else: \n",
    "        leaks_dist.append(le)"
   ]
  },
  {
   "cell_type": "markdown",
   "id": "728a3d33-357d-4a51-9466-d727c8745849",
   "metadata": {},
   "source": [
    "#### Components count distribution"
   ]
  },
  {
   "cell_type": "code",
   "execution_count": 12,
   "id": "5b39496e-c0d6-49d3-b36c-b5e64e946f8e",
   "metadata": {},
   "outputs": [],
   "source": [
    "# component distribution \n",
    "mean = 2720  # Centered within the range of 1 and 5440\n",
    "std_dev = 800  # Adjust for desired spread\n",
    "\n",
    "# Generate random samples and filter to the desired range\n",
    "num_comps = []\n",
    "for _ in range(10000):  # Generate 100 samples as an example\n",
    "    sample = np.random.normal(mean, std_dev)\n",
    "    if 1 <= sample <= 5440:\n",
    "        num_comps.append(sample)\n",
    "\n",
    "# Convert to integers if you only want whole numbers\n",
    "num_comps  = [int(x) for x in num_comps]"
   ]
  },
  {
   "cell_type": "markdown",
   "id": "1442fc2b-f712-49e0-96f6-5c4f66f1027a",
   "metadata": {},
   "source": [
    "#### Fit the duration and rate distribution "
   ]
  },
  {
   "cell_type": "code",
   "execution_count": 13,
   "id": "c8146c18-8390-4b0d-82d7-26900e71b451",
   "metadata": {},
   "outputs": [],
   "source": [
    "duration_log_normal = lognorm.fit(durations, floc=0)"
   ]
  },
  {
   "cell_type": "code",
   "execution_count": 14,
   "id": "fb9c1952-06a8-435a-abb6-da60d963a338",
   "metadata": {},
   "outputs": [
    {
     "data": {
      "text/plain": [
       "(2.4586123561386564, 0, 2.278538381231889)"
      ]
     },
     "execution_count": 14,
     "metadata": {},
     "output_type": "execute_result"
    }
   ],
   "source": [
    "duration_log_normal # mean and std of fitted distribution "
   ]
  },
  {
   "cell_type": "code",
   "execution_count": 15,
   "id": "efed7710-e1a5-4dda-8d36-5d187a31186e",
   "metadata": {},
   "outputs": [],
   "source": [
    "duration_distribution = lognorm.rvs(*duration_log_normal, size=10000)"
   ]
  },
  {
   "cell_type": "code",
   "execution_count": 16,
   "id": "27d539c1-bf88-42ac-8133-afdb50cdab15",
   "metadata": {},
   "outputs": [],
   "source": [
    "leaks_log_normal = lognorm.fit(leaks_dist, floc=0)"
   ]
  },
  {
   "cell_type": "code",
   "execution_count": 17,
   "id": "aecc012f-8aa1-4dd9-a1b0-abd3ed2bc008",
   "metadata": {},
   "outputs": [
    {
     "data": {
      "text/plain": [
       "(3.268163402948174, 0, 0.0023221811999882417)"
      ]
     },
     "execution_count": 17,
     "metadata": {},
     "output_type": "execute_result"
    }
   ],
   "source": [
    "leaks_log_normal # mean and std of fitted distribution "
   ]
  },
  {
   "cell_type": "code",
   "execution_count": 18,
   "id": "5585e50d-30e6-4a37-9833-db711219742d",
   "metadata": {},
   "outputs": [],
   "source": [
    "leak_distribution = list(lognorm.rvs(*leaks_log_normal, size=10000))"
   ]
  },
  {
   "cell_type": "markdown",
   "id": "d609717a-8046-4bfd-a2aa-34886997b0d4",
   "metadata": {},
   "source": [
    "#### plot the input data distribution"
   ]
  },
  {
   "cell_type": "code",
   "execution_count": 19,
   "id": "3b7f17e8-7605-4715-b42c-9bddbeeeb59b",
   "metadata": {},
   "outputs": [
    {
     "data": {
      "image/png": "[encoded data removed]",
      "text/plain": [
       "<Figure size 1500x600 with 4 Axes>"
      ]
     },
     "metadata": {},
     "output_type": "display_data"
    }
   ],
   "source": [
    "fig, axs = plt.subplots(1, 4, figsize=(15, 6))\n",
    "\n",
    "# Plotting on each subplot\n",
    "axs[0].hist(leak_distribution, bins=100, color='orange', edgecolor='black')\n",
    "axs[0].set_xlabel(\"Emission rates (kg/hr)\")\n",
    "\n",
    "axs[1].hist(num_comps, bins = 100, color = 'black', edgecolor ='black')\n",
    "axs[1].set_xlabel(\"Component count\")\n",
    "\n",
    "axs[2].hist(wind_speed, bins=10, color='blue', edgecolor='black')\n",
    "axs[2].set_xlabel(\"Wind speed (m/s)\")\n",
    "\n",
    "axs[3].hist(duration_distribution , bins=100, color='green', edgecolor='black')\n",
    "axs[3].set_xlabel(\"Durations (hr)\")\n",
    "\n",
    "# Adjust layout\n",
    "plt.tight_layout()\n",
    "plt.show()"
   ]
  },
  {
   "cell_type": "markdown",
   "id": "6bfb8f75-be50-4269-8d33-3fdcbeaeb641",
   "metadata": {},
   "source": [
    "#### Simulate emissions from unresolved events  \n",
    "Based on timestamps of our simulated emission events, our reconciliation period is 4 months from 2024-01-01 to 2024-04-31"
   ]
  },
  {
   "cell_type": "code",
   "execution_count": 20,
   "id": "c5ea85f2-0ea1-48f2-84aa-9368c17a7a21",
   "metadata": {},
   "outputs": [],
   "source": [
    "def find_closest_after(numbers, target):\n",
    "    # Sort the numbers first\n",
    "    sorted_numbers = sorted(numbers)\n",
    "    \n",
    "    # Use bisect to find the insertion point for the target\n",
    "    index = bisect.bisect_right(sorted_numbers, target)\n",
    "\n",
    "    # Check if there is a number greater than the target\n",
    "    if index < len(sorted_numbers):\n",
    "        return sorted_numbers[index]  # Return the closest number greater than the target\n",
    "    else:\n",
    "        return None  # Return None if there are no valid numbers"
   ]
  },
  {
   "cell_type": "code",
   "execution_count": 21,
   "id": "567c1f25-7bbe-48a3-b66d-de4fd6d7090f",
   "metadata": {},
   "outputs": [],
   "source": [
    "def hours_since_datetime(current_datetime,target_datetime):\n",
    "    time_difference = current_datetime - target_datetime\n",
    "    hours_difference = time_difference.total_seconds() / 3600\n",
    "    return hours_difference"
   ]
  },
  {
   "cell_type": "code",
   "execution_count": 22,
   "id": "340077bc-d0ac-4fd7-bbbd-91fc11cea87c",
   "metadata": {},
   "outputs": [],
   "source": [
    "Events_Times = [] \n",
    "init_datetime = datetime(2024,1,1,0,0,0)\n",
    "for idx,row in events.iterrows():\n",
    "    st = datetime.strptime(row.start_time,'%Y-%m-%d %H:%M:%S')\n",
    "    et = datetime.strptime(row.end_time,'%Y-%m-%d %H:%M:%S')\n",
    "    ct = st \n",
    "    while ct <= et:\n",
    "        timestep = hours_since_datetime(ct,init_datetime)\n",
    "        Events_Times.append(timestep)\n",
    "        ct += timedelta(hours=1)"
   ]
  },
  {
   "cell_type": "code",
   "execution_count": 23,
   "id": "6b7a5194-132c-4d06-9573-ed40bb9b2361",
   "metadata": {},
   "outputs": [],
   "source": [
    "mc = 0\n",
    "MC = 10000\n",
    "Unmeausred_Emissions = [] \n",
    "Unmeasured_rates = [] \n",
    "Sampled_durations = []  \n",
    "while mc < MC:\n",
    "    E_miss = 0 \n",
    "    D_miss = [] \n",
    "    Q_miss = []\n",
    "    sim_start_time = []\n",
    "    sim_end_time = [] \n",
    "    target_datetime = datetime(2024,5,1,0,0,0)\n",
    "    current_datetime = datetime(2024,1,1,0,0,0)\n",
    "    init_datetime = current_datetime\n",
    "    while current_datetime <= target_datetime: \n",
    "        \n",
    "        Q_sample = random.sample(leak_distribution,1)[0]\n",
    "        Q_sample = Q_sample * random.sample(num_comps,1)[0]\n",
    "        hour_since_start_time = hours_since_datetime(init_datetime,current_datetime)\n",
    "\n",
    "        # get random u (wind speed) - wind speed sample from ERA5 dataset of Permian basin \n",
    "        # since out ficticious site locates at Permian basin \n",
    "        u = np.random.choice(wind_speed, size = 1)\n",
    "        detection_label = False \n",
    "        \n",
    "        # sampled emissions is not below MDL of flyover \n",
    "        if not detection_label and hour_since_start_time not in Events_Times: \n",
    "            # we assume passes of flyover survey is always 3 times \n",
    "            N = 3\n",
    "            detection_label = False \n",
    "            for n in range(N): \n",
    "                # POD equation is from \n",
    "                # Conrad, B. M., Tyner, D. R., & Johnson, M. R. (2023). \n",
    "                # https://doi.org/10.1016/j.rse.2023.113499\n",
    "                POD = 1 - (1+(((0.00771)/u**1.41)*Q_sample **1.87)**2)**-1.5\n",
    "                rdp = random.random()\n",
    "                if POD > rdp: \n",
    "                    # detection success \n",
    "                    detection_label = True\n",
    "                    break\n",
    "\n",
    "\n",
    "            N = 5 # number of qube sensors installed \n",
    "            for n in range(N): \n",
    "                # normalize the rate with wind speed \n",
    "                normQ = Q_sample /u \n",
    "                # POD equation (Bell et al., 2023 - https://doi.org/10.1021/acs.est.2c09235)\n",
    "                POD_cms = 1/(1 + np.exp(-0.309-1.047*normQ)) # -> 0.5\n",
    "                rdp = random.random() # -> 0.6\n",
    "                if POD_cms > rdp: \n",
    "                    # detection success \n",
    "                    detection_label = True\n",
    "                    break\n",
    "                    \n",
    "        if not detection_label:\n",
    "            sim_start_time.append(current_datetime)\n",
    "            Q_miss.append(Q_sample)\n",
    "            # sampled a duration \n",
    "            sampled_duration = random.sample(durations,1)[0]\n",
    "            closest_number = find_closest_after(Events_Times,hour_since_start_time)\n",
    "            if closest_number:\n",
    "                max_time_cap = closest_number - hour_since_start_time\n",
    "                sampled_duration = min(sampled_duration, max_time_cap)\n",
    "            E_miss += Q_sample * sampled_duration\n",
    "            # update time with sampled duration \n",
    "            current_datetime += timedelta(hours=sampled_duration)\n",
    "            sim_end_time.append(current_datetime)\n",
    "            D_miss.append(sampled_duration)\n",
    "        else:\n",
    "            # update time by adding 1 hour \n",
    "            current_datetime += timedelta(hours=1)\n",
    "\n",
    "    Unmeausred_Emissions.append(E_miss)\n",
    "    Unmeasured_rates.append(Q_miss)\n",
    "    Sampled_durations.append(D_miss)\n",
    "    mc += 1 "
   ]
  },
  {
   "cell_type": "code",
   "execution_count": 66,
   "id": "9bf94296-2780-436b-83ad-3fdaa1cdd818",
   "metadata": {},
   "outputs": [
    {
     "data": {
      "text/plain": [
       "(35.22616276838076, 2.809887180382818, 956.1277759344273)"
      ]
     },
     "execution_count": 66,
     "metadata": {},
     "output_type": "execute_result"
    }
   ],
   "source": [
    "np.median(Unmeausred_Emissions), np.percentile(Unmeausred_Emissions,q=2.5), np.percentile(Unmeausred_Emissions,q=97.5)"
   ]
  },
  {
   "cell_type": "code",
   "execution_count": null,
   "id": "f3297da6-bcd5-4c35-9a0c-347e58c0f474",
   "metadata": {},
   "outputs": [],
   "source": []
  }
 ],
 "metadata": {
  "kernelspec": {
   "display_name": "Python 3 (ipykernel)",
   "language": "python",
   "name": "python3"
  },
  "language_info": {
   "codemirror_mode": {
    "name": "ipython",
    "version": 3
   },
   "file_extension": ".py",
   "mimetype": "text/x-python",
   "name": "python",
   "nbconvert_exporter": "python",
   "pygments_lexer": "ipython3",
   "version": "3.10.14"
  }
 },
 "nbformat": 4,
 "nbformat_minor": 5
}
