{
 "cells": [
  {
   "cell_type": "code",
   "execution_count": 1,
   "id": "8f983fb6-2aa6-4479-8fb5-d9aca9b16b0c",
   "metadata": {},
   "outputs": [],
   "source": [
    "import pandas as pd\n",
    "from datetime import datetime, timedelta\n",
    "import numpy as np\n",
    "import matplotlib.pyplot as plt "
   ]
  },
  {
   "cell_type": "markdown",
   "id": "ac6ad337-0a1b-4e6a-9ced-f33d5c7b852d",
   "metadata": {},
   "source": [
    "#### Load merged events "
   ]
  },
  {
   "cell_type": "code",
   "execution_count": 2,
   "id": "21f8f97a-949d-4114-a92b-bfab41eb50d9",
   "metadata": {},
   "outputs": [],
   "source": [
    "events = pd.read_csv(\"merged_events_case_study_1.csv\")"
   ]
  },
  {
   "cell_type": "code",
   "execution_count": 3,
   "id": "ccf05e36-eb2a-4d30-8ba8-62b33f8031ab",
   "metadata": {},
   "outputs": [
    {
     "data": {
      "text/html": [
       "<div>\n",
       "<style scoped>\n",
       "    .dataframe tbody tr th:only-of-type {\n",
       "        vertical-align: middle;\n",
       "    }\n",
       "\n",
       "    .dataframe tbody tr th {\n",
       "        vertical-align: top;\n",
       "    }\n",
       "\n",
       "    .dataframe thead th {\n",
       "        text-align: right;\n",
       "    }\n",
       "</style>\n",
       "<table border=\"1\" class=\"dataframe\">\n",
       "  <thead>\n",
       "    <tr style=\"text-align: right;\">\n",
       "      <th></th>\n",
       "      <th>event_ID</th>\n",
       "      <th>event_type</th>\n",
       "      <th>source</th>\n",
       "      <th>start_time</th>\n",
       "      <th>end_time</th>\n",
       "      <th>duration</th>\n",
       "      <th>rate</th>\n",
       "      <th>quantity</th>\n",
       "      <th>duration_simulation</th>\n",
       "    </tr>\n",
       "  </thead>\n",
       "  <tbody>\n",
       "    <tr>\n",
       "      <th>0</th>\n",
       "      <td>Event-01</td>\n",
       "      <td>RE</td>\n",
       "      <td>Compressor-2</td>\n",
       "      <td>2024-01-10 07:30:00</td>\n",
       "      <td>2024-03-18 09:15:00</td>\n",
       "      <td>1633.750000</td>\n",
       "      <td>1.835673</td>\n",
       "      <td>2999.031431</td>\n",
       "      <td>False</td>\n",
       "    </tr>\n",
       "    <tr>\n",
       "      <th>1</th>\n",
       "      <td>Event-02</td>\n",
       "      <td>RE</td>\n",
       "      <td>Compressor-3</td>\n",
       "      <td>2024-01-08 09:35:00</td>\n",
       "      <td>2024-02-29 17:25:00</td>\n",
       "      <td>1255.833333</td>\n",
       "      <td>1.208226</td>\n",
       "      <td>1517.330272</td>\n",
       "      <td>False</td>\n",
       "    </tr>\n",
       "  </tbody>\n",
       "</table>\n",
       "</div>"
      ],
      "text/plain": [
       "   event_ID event_type        source           start_time  \\\n",
       "0  Event-01         RE  Compressor-2  2024-01-10 07:30:00   \n",
       "1  Event-02         RE  Compressor-3  2024-01-08 09:35:00   \n",
       "\n",
       "              end_time     duration      rate     quantity  \\\n",
       "0  2024-03-18 09:15:00  1633.750000  1.835673  2999.031431   \n",
       "1  2024-02-29 17:25:00  1255.833333  1.208226  1517.330272   \n",
       "\n",
       "   duration_simulation  \n",
       "0                False  \n",
       "1                False  "
      ]
     },
     "execution_count": 3,
     "metadata": {},
     "output_type": "execute_result"
    }
   ],
   "source": [
    "events.head(2)"
   ]
  },
  {
   "cell_type": "code",
   "execution_count": 4,
   "id": "217cb6b1-44b0-4b3e-b979-b19f9f6075d6",
   "metadata": {},
   "outputs": [],
   "source": [
    "duration_simulation_events = events[events[\"duration_simulation\"] == True]"
   ]
  },
  {
   "cell_type": "code",
   "execution_count": 5,
   "id": "d8622f87-4403-4016-b302-dcafe2422506",
   "metadata": {},
   "outputs": [
    {
     "data": {
      "text/html": [
       "<div>\n",
       "<style scoped>\n",
       "    .dataframe tbody tr th:only-of-type {\n",
       "        vertical-align: middle;\n",
       "    }\n",
       "\n",
       "    .dataframe tbody tr th {\n",
       "        vertical-align: top;\n",
       "    }\n",
       "\n",
       "    .dataframe thead th {\n",
       "        text-align: right;\n",
       "    }\n",
       "</style>\n",
       "<table border=\"1\" class=\"dataframe\">\n",
       "  <thead>\n",
       "    <tr style=\"text-align: right;\">\n",
       "      <th></th>\n",
       "      <th>event_ID</th>\n",
       "      <th>event_type</th>\n",
       "      <th>source</th>\n",
       "      <th>start_time</th>\n",
       "      <th>end_time</th>\n",
       "      <th>duration</th>\n",
       "      <th>rate</th>\n",
       "      <th>quantity</th>\n",
       "      <th>duration_simulation</th>\n",
       "    </tr>\n",
       "  </thead>\n",
       "  <tbody>\n",
       "    <tr>\n",
       "      <th>2</th>\n",
       "      <td>Event-03</td>\n",
       "      <td>PRE</td>\n",
       "      <td>A</td>\n",
       "      <td>2024-04-01 16:14:00</td>\n",
       "      <td>2024-04-30 23:59:00</td>\n",
       "      <td>703.75</td>\n",
       "      <td>38.5</td>\n",
       "      <td>27094.375</td>\n",
       "      <td>True</td>\n",
       "    </tr>\n",
       "  </tbody>\n",
       "</table>\n",
       "</div>"
      ],
      "text/plain": [
       "   event_ID event_type source           start_time             end_time  \\\n",
       "2  Event-03        PRE      A  2024-04-01 16:14:00  2024-04-30 23:59:00   \n",
       "\n",
       "   duration  rate   quantity  duration_simulation  \n",
       "2    703.75  38.5  27094.375                 True  "
      ]
     },
     "execution_count": 5,
     "metadata": {},
     "output_type": "execute_result"
    }
   ],
   "source": [
    "duration_simulation_events "
   ]
  },
  {
   "cell_type": "code",
   "execution_count": 6,
   "id": "b7f0cf5d-c048-47d1-8966-f6b434629873",
   "metadata": {},
   "outputs": [
    {
     "name": "stdout",
     "output_type": "stream",
     "text": [
      "1000\n",
      "2000\n",
      "3000\n",
      "4000\n",
      "5000\n",
      "6000\n",
      "7000\n",
      "8000\n",
      "9000\n",
      "10000\n"
     ]
    }
   ],
   "source": [
    "LPR = 0.006 # leak production rate (unit is per site per day)\n",
    "operator_bonus = 0.5 \n",
    "Q_max = events.rate.max()\n",
    "median_sim_duration = [] \n",
    "percentile_95_confidence_upper = []\n",
    "percentile_95_confidence_lower = []\n",
    "for index,row in duration_simulation_events.iterrows():\n",
    "    # simulation start time \n",
    "    start_time = datetime.strptime(row.start_time,'%Y-%m-%d %H:%M:%S')\n",
    "    # simulation end time\n",
    "    end_time = datetime.strptime(row.end_time,'%Y-%m-%d %H:%M:%S')\n",
    "    rate = row.rate\n",
    "    duration = row.duration \n",
    "    # we repeat 10000 interations for study \n",
    "    mc = 0\n",
    "    mc_total = 10000\n",
    "    simulated_duration_dist = [] \n",
    "    while mc < mc_total:\n",
    "        # when to stop the simulation  \n",
    "        sim_end_time = end_time \n",
    "        # When to start the simulation \n",
    "        sim_time = start_time \n",
    "        simulated_start = None \n",
    "        simulated_end = None \n",
    "        while sim_time < sim_end_time: \n",
    "            event_generation = False \n",
    "            if not event_generation: \n",
    "                sample_leak = np.random.binomial(1, LPR, 1)[0]\n",
    "                if sample_leak == 1: \n",
    "                    event_generation = True\n",
    "                    simulated_start = sim_time\n",
    "                    sim_time += timedelta(hours =1)\n",
    "                else: \n",
    "                    sim_time += timedelta(hours =1)\n",
    "            else: \n",
    "                # calcualte NRR see Fox et al., 2021 supporting document \n",
    "                NRR = ((LPR)*7/1) * (1/10) +  (operator_bonus*rate)/Q_max\n",
    "                sample_repair = np.random.binomial(1, NRR, 1)[0]\n",
    "                if sample_repair == 1:\n",
    "                    simulated_end = sim_time\n",
    "                    sim_time += timedelta(hours =1)\n",
    "                    break \n",
    "                else: \n",
    "                    sim_time += timedelta(hours =1)\n",
    "\n",
    "        if simulated_start == None and simulated_end == None: \n",
    "            sim_duration = duration\n",
    "        elif simulated_start != None and simulated_end == None:\n",
    "            sim_duration = (end_time - simulated_start).total_seconds()/3600\n",
    "        else:\n",
    "            sim_duration = (simulated_end - simulated_start).total_seconds()/3600\n",
    "            \n",
    "        simulated_duration_dist.append(sim_duration)\n",
    "        mc += 1 \n",
    "        if mc%1000 == 0:\n",
    "            print (mc)\n",
    "        \n",
    "    median_sim_duration.append(np.median(simulated_duration_dist))\n",
    "    percentile_95_confidence_upper.append(np.percentile(simulated_duration_dist, q= 97.5))\n",
    "    percentile_95_confidence_lower.append(np.percentile(simulated_duration_dist, q= 2.5))"
   ]
  },
  {
   "cell_type": "code",
   "execution_count": 7,
   "id": "d79cc0a6-7e47-4504-8e16-6df1a448139e",
   "metadata": {},
   "outputs": [
    {
     "data": {
      "image/png": "[encoded data removed]",
      "text/plain": [
       "<Figure size 640x480 with 1 Axes>"
      ]
     },
     "metadata": {},
     "output_type": "display_data"
    }
   ],
   "source": [
    "# Simulated duration distribution in above example  \n",
    "plt.hist(simulated_duration_dist)\n",
    "plt.show()"
   ]
  },
  {
   "cell_type": "code",
   "execution_count": 8,
   "id": "e01aef76-75e4-4986-9dfa-92d44863b46f",
   "metadata": {},
   "outputs": [
    {
     "data": {
      "text/plain": [
       "([115.75], [607.75], [4.75])"
      ]
     },
     "execution_count": 8,
     "metadata": {},
     "output_type": "execute_result"
    }
   ],
   "source": [
    "median_sim_duration, percentile_95_confidence_upper, percentile_95_confidence_lower"
   ]
  },
  {
   "cell_type": "code",
   "execution_count": 9,
   "id": "235885d7-f2e8-4fa3-a089-bc523842a654",
   "metadata": {},
   "outputs": [],
   "source": [
    "# median simulated duration is 116.75 hr \n",
    "events.at[2, 'duration'] = 116.75 "
   ]
  },
  {
   "cell_type": "code",
   "execution_count": 10,
   "id": "88e90cb7-dd0f-474b-a05d-ace808ea2741",
   "metadata": {},
   "outputs": [
    {
     "data": {
      "text/html": [
       "<div>\n",
       "<style scoped>\n",
       "    .dataframe tbody tr th:only-of-type {\n",
       "        vertical-align: middle;\n",
       "    }\n",
       "\n",
       "    .dataframe tbody tr th {\n",
       "        vertical-align: top;\n",
       "    }\n",
       "\n",
       "    .dataframe thead th {\n",
       "        text-align: right;\n",
       "    }\n",
       "</style>\n",
       "<table border=\"1\" class=\"dataframe\">\n",
       "  <thead>\n",
       "    <tr style=\"text-align: right;\">\n",
       "      <th></th>\n",
       "      <th>event_ID</th>\n",
       "      <th>event_type</th>\n",
       "      <th>source</th>\n",
       "      <th>start_time</th>\n",
       "      <th>end_time</th>\n",
       "      <th>duration</th>\n",
       "      <th>rate</th>\n",
       "      <th>quantity</th>\n",
       "      <th>duration_simulation</th>\n",
       "    </tr>\n",
       "  </thead>\n",
       "  <tbody>\n",
       "    <tr>\n",
       "      <th>0</th>\n",
       "      <td>Event-01</td>\n",
       "      <td>RE</td>\n",
       "      <td>Compressor-2</td>\n",
       "      <td>2024-01-10 07:30:00</td>\n",
       "      <td>2024-03-18 09:15:00</td>\n",
       "      <td>1633.750000</td>\n",
       "      <td>1.835673</td>\n",
       "      <td>2999.031431</td>\n",
       "      <td>False</td>\n",
       "    </tr>\n",
       "    <tr>\n",
       "      <th>1</th>\n",
       "      <td>Event-02</td>\n",
       "      <td>RE</td>\n",
       "      <td>Compressor-3</td>\n",
       "      <td>2024-01-08 09:35:00</td>\n",
       "      <td>2024-02-29 17:25:00</td>\n",
       "      <td>1255.833333</td>\n",
       "      <td>1.208226</td>\n",
       "      <td>1517.330272</td>\n",
       "      <td>False</td>\n",
       "    </tr>\n",
       "    <tr>\n",
       "      <th>2</th>\n",
       "      <td>Event-03</td>\n",
       "      <td>PRE</td>\n",
       "      <td>A</td>\n",
       "      <td>2024-04-01 16:14:00</td>\n",
       "      <td>2024-04-30 23:59:00</td>\n",
       "      <td>116.750000</td>\n",
       "      <td>38.500000</td>\n",
       "      <td>27094.375000</td>\n",
       "      <td>True</td>\n",
       "    </tr>\n",
       "  </tbody>\n",
       "</table>\n",
       "</div>"
      ],
      "text/plain": [
       "   event_ID event_type        source           start_time  \\\n",
       "0  Event-01         RE  Compressor-2  2024-01-10 07:30:00   \n",
       "1  Event-02         RE  Compressor-3  2024-01-08 09:35:00   \n",
       "2  Event-03        PRE             A  2024-04-01 16:14:00   \n",
       "\n",
       "              end_time     duration       rate      quantity  \\\n",
       "0  2024-03-18 09:15:00  1633.750000   1.835673   2999.031431   \n",
       "1  2024-02-29 17:25:00  1255.833333   1.208226   1517.330272   \n",
       "2  2024-04-30 23:59:00   116.750000  38.500000  27094.375000   \n",
       "\n",
       "   duration_simulation  \n",
       "0                False  \n",
       "1                False  \n",
       "2                 True  "
      ]
     },
     "execution_count": 10,
     "metadata": {},
     "output_type": "execute_result"
    }
   ],
   "source": [
    "events.head(3)"
   ]
  },
  {
   "cell_type": "markdown",
   "id": "a33bf287-6746-40e9-9ec6-179abfeab06c",
   "metadata": {},
   "source": [
    "### Update the rate and duration uncertainty based on simulated results "
   ]
  },
  {
   "cell_type": "markdown",
   "id": "04f25f94-dd4b-44ea-b536-725fb20f07cd",
   "metadata": {},
   "source": [
    "As Daniels et al., 2024 indicated in https://doi.org/10.1021/acs.estlett.4c00687, 86.8% of estimates within a factor of 2× error\n",
    "Thus for PRE that duration is determiend by using CMS observation, we assume the lower uncertainty is 0, and upper uncertainty 2x measured duration in this case study."
   ]
  },
  {
   "cell_type": "markdown",
   "id": "4a5d663c-6ddd-4ba7-b7b2-26eb7b00840f",
   "metadata": {},
   "source": [
    "For all events, we assume the rate uncertainty is +/- 60% in this case study."
   ]
  },
  {
   "cell_type": "code",
   "execution_count": 11,
   "id": "3c710e39-4ef5-4f4b-b62c-2a9181527550",
   "metadata": {},
   "outputs": [],
   "source": [
    "duration_lowers = [] \n",
    "duration_uppers = [] \n",
    "rate_lowers = [] \n",
    "rate_uppers = [] \n",
    "for index,row in events.iterrows(): \n",
    "    rate_lowers.append(row.rate * 0.6)\n",
    "    rate_uppers.append(row.rate * 0.6)\n",
    "    if row.event_type == \"RE\": \n",
    "        duration_lower = 0 \n",
    "        duration_upper = 0 \n",
    "    else: \n",
    "        if row.duration_simulation == False: \n",
    "            duration_lower = 0 \n",
    "            duration_upper = 2* row.duration\n",
    "        else: \n",
    "            duration_lower = 116.75 - 4.75 \n",
    "            duration_upper = 606.75 - 116.75\n",
    "    duration_lowers.append(duration_lower)\n",
    "    duration_uppers.append(duration_upper)   "
   ]
  },
  {
   "cell_type": "code",
   "execution_count": 12,
   "id": "bdd53f20-1741-4c04-95b1-491999f0db34",
   "metadata": {},
   "outputs": [],
   "source": [
    "events[\"duration_lower\"] = duration_lowers\n",
    "events[\"duration_upper\"] = duration_uppers\n",
    "events[\"rate_lower\"] = rate_lowers\n",
    "events[\"rate_upper\"] = rate_uppers"
   ]
  },
  {
   "cell_type": "code",
   "execution_count": 13,
   "id": "e0a5e7a5-b2df-43cb-9b02-7eaca2c1fb89",
   "metadata": {},
   "outputs": [
    {
     "data": {
      "text/html": [
       "<div>\n",
       "<style scoped>\n",
       "    .dataframe tbody tr th:only-of-type {\n",
       "        vertical-align: middle;\n",
       "    }\n",
       "\n",
       "    .dataframe tbody tr th {\n",
       "        vertical-align: top;\n",
       "    }\n",
       "\n",
       "    .dataframe thead th {\n",
       "        text-align: right;\n",
       "    }\n",
       "</style>\n",
       "<table border=\"1\" class=\"dataframe\">\n",
       "  <thead>\n",
       "    <tr style=\"text-align: right;\">\n",
       "      <th></th>\n",
       "      <th>event_ID</th>\n",
       "      <th>event_type</th>\n",
       "      <th>source</th>\n",
       "      <th>start_time</th>\n",
       "      <th>end_time</th>\n",
       "      <th>duration</th>\n",
       "      <th>rate</th>\n",
       "      <th>quantity</th>\n",
       "      <th>duration_simulation</th>\n",
       "      <th>duration_lower</th>\n",
       "      <th>duration_upper</th>\n",
       "      <th>rate_lower</th>\n",
       "      <th>rate_upper</th>\n",
       "    </tr>\n",
       "  </thead>\n",
       "  <tbody>\n",
       "    <tr>\n",
       "      <th>0</th>\n",
       "      <td>Event-01</td>\n",
       "      <td>RE</td>\n",
       "      <td>Compressor-2</td>\n",
       "      <td>2024-01-10 07:30:00</td>\n",
       "      <td>2024-03-18 09:15:00</td>\n",
       "      <td>1633.750000</td>\n",
       "      <td>1.835673</td>\n",
       "      <td>2999.031431</td>\n",
       "      <td>False</td>\n",
       "      <td>0.0</td>\n",
       "      <td>0.0</td>\n",
       "      <td>1.101404</td>\n",
       "      <td>1.101404</td>\n",
       "    </tr>\n",
       "    <tr>\n",
       "      <th>1</th>\n",
       "      <td>Event-02</td>\n",
       "      <td>RE</td>\n",
       "      <td>Compressor-3</td>\n",
       "      <td>2024-01-08 09:35:00</td>\n",
       "      <td>2024-02-29 17:25:00</td>\n",
       "      <td>1255.833333</td>\n",
       "      <td>1.208226</td>\n",
       "      <td>1517.330272</td>\n",
       "      <td>False</td>\n",
       "      <td>0.0</td>\n",
       "      <td>0.0</td>\n",
       "      <td>0.724935</td>\n",
       "      <td>0.724935</td>\n",
       "    </tr>\n",
       "    <tr>\n",
       "      <th>2</th>\n",
       "      <td>Event-03</td>\n",
       "      <td>PRE</td>\n",
       "      <td>A</td>\n",
       "      <td>2024-04-01 16:14:00</td>\n",
       "      <td>2024-04-30 23:59:00</td>\n",
       "      <td>116.750000</td>\n",
       "      <td>38.500000</td>\n",
       "      <td>27094.375000</td>\n",
       "      <td>True</td>\n",
       "      <td>112.0</td>\n",
       "      <td>490.0</td>\n",
       "      <td>23.100000</td>\n",
       "      <td>23.100000</td>\n",
       "    </tr>\n",
       "    <tr>\n",
       "      <th>3</th>\n",
       "      <td>Event-04</td>\n",
       "      <td>RE</td>\n",
       "      <td>Compressor-3</td>\n",
       "      <td>2024-01-01 04:25:00</td>\n",
       "      <td>2024-01-01 04:35:00</td>\n",
       "      <td>0.166667</td>\n",
       "      <td>1096.777584</td>\n",
       "      <td>182.796264</td>\n",
       "      <td>False</td>\n",
       "      <td>0.0</td>\n",
       "      <td>0.0</td>\n",
       "      <td>658.066550</td>\n",
       "      <td>658.066550</td>\n",
       "    </tr>\n",
       "    <tr>\n",
       "      <th>4</th>\n",
       "      <td>Event-05</td>\n",
       "      <td>RE</td>\n",
       "      <td>Tank-1</td>\n",
       "      <td>2024-01-01 13:34:00</td>\n",
       "      <td>2024-01-01 13:40:00</td>\n",
       "      <td>0.100000</td>\n",
       "      <td>2312.586900</td>\n",
       "      <td>231.258690</td>\n",
       "      <td>False</td>\n",
       "      <td>0.0</td>\n",
       "      <td>0.0</td>\n",
       "      <td>1387.552140</td>\n",
       "      <td>1387.552140</td>\n",
       "    </tr>\n",
       "  </tbody>\n",
       "</table>\n",
       "</div>"
      ],
      "text/plain": [
       "   event_ID event_type        source           start_time  \\\n",
       "0  Event-01         RE  Compressor-2  2024-01-10 07:30:00   \n",
       "1  Event-02         RE  Compressor-3  2024-01-08 09:35:00   \n",
       "2  Event-03        PRE             A  2024-04-01 16:14:00   \n",
       "3  Event-04         RE  Compressor-3  2024-01-01 04:25:00   \n",
       "4  Event-05         RE        Tank-1  2024-01-01 13:34:00   \n",
       "\n",
       "              end_time     duration         rate      quantity  \\\n",
       "0  2024-03-18 09:15:00  1633.750000     1.835673   2999.031431   \n",
       "1  2024-02-29 17:25:00  1255.833333     1.208226   1517.330272   \n",
       "2  2024-04-30 23:59:00   116.750000    38.500000  27094.375000   \n",
       "3  2024-01-01 04:35:00     0.166667  1096.777584    182.796264   \n",
       "4  2024-01-01 13:40:00     0.100000  2312.586900    231.258690   \n",
       "\n",
       "   duration_simulation  duration_lower  duration_upper   rate_lower  \\\n",
       "0                False             0.0             0.0     1.101404   \n",
       "1                False             0.0             0.0     0.724935   \n",
       "2                 True           112.0           490.0    23.100000   \n",
       "3                False             0.0             0.0   658.066550   \n",
       "4                False             0.0             0.0  1387.552140   \n",
       "\n",
       "    rate_upper  \n",
       "0     1.101404  \n",
       "1     0.724935  \n",
       "2    23.100000  \n",
       "3   658.066550  \n",
       "4  1387.552140  "
      ]
     },
     "execution_count": 13,
     "metadata": {},
     "output_type": "execute_result"
    }
   ],
   "source": [
    "events.head()"
   ]
  },
  {
   "cell_type": "code",
   "execution_count": 14,
   "id": "10c53a64-6b36-4435-9b10-5a23ff56d459",
   "metadata": {},
   "outputs": [],
   "source": [
    "events.to_csv(\"events_with_uncertianty_case_study_1.csv\",sep=',', index=False)"
   ]
  },
  {
   "cell_type": "code",
   "execution_count": null,
   "id": "2c959eba-a923-4840-8a91-fbe09264a928",
   "metadata": {},
   "outputs": [],
   "source": []
  }
 ],
 "metadata": {
  "kernelspec": {
   "display_name": "Python 3 (ipykernel)",
   "language": "python",
   "name": "python3"
  },
  "language_info": {
   "codemirror_mode": {
    "name": "ipython",
    "version": 3
   },
   "file_extension": ".py",
   "mimetype": "text/x-python",
   "name": "python",
   "nbconvert_exporter": "python",
   "pygments_lexer": "ipython3",
   "version": "3.10.14"
  }
 },
 "nbformat": 4,
 "nbformat_minor": 5
}
