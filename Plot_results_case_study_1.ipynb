{
 "cells": [
  {
   "cell_type": "code",
   "execution_count": 2,
   "id": "75885fca-202f-4953-9d04-d7a1968f9b50",
   "metadata": {},
   "outputs": [],
   "source": [
    "import pandas as pd \n",
    "import matplotlib.pyplot as plt \n",
    "import numpy as np "
   ]
  },
  {
   "cell_type": "code",
   "execution_count": 3,
   "id": "62dc2255-d233-4012-90c2-6bd60b50b6cb",
   "metadata": {},
   "outputs": [],
   "source": [
    "df = pd.read_csv(\"events_with_uncertianty_case_study_1.csv\")"
   ]
  },
  {
   "cell_type": "code",
   "execution_count": 4,
   "id": "a3cbb23e-3f03-4fe5-b5a2-5c5c94e3ed99",
   "metadata": {},
   "outputs": [
    {
     "data": {
      "text/html": [
       "<div>\n",
       "<style scoped>\n",
       "    .dataframe tbody tr th:only-of-type {\n",
       "        vertical-align: middle;\n",
       "    }\n",
       "\n",
       "    .dataframe tbody tr th {\n",
       "        vertical-align: top;\n",
       "    }\n",
       "\n",
       "    .dataframe thead th {\n",
       "        text-align: right;\n",
       "    }\n",
       "</style>\n",
       "<table border=\"1\" class=\"dataframe\">\n",
       "  <thead>\n",
       "    <tr style=\"text-align: right;\">\n",
       "      <th></th>\n",
       "      <th>event_ID</th>\n",
       "      <th>event_type</th>\n",
       "      <th>source</th>\n",
       "      <th>start_time</th>\n",
       "      <th>end_time</th>\n",
       "      <th>duration</th>\n",
       "      <th>rate</th>\n",
       "      <th>quantity</th>\n",
       "      <th>duration_simulation</th>\n",
       "      <th>duration_lower</th>\n",
       "      <th>duration_upper</th>\n",
       "      <th>rate_lower</th>\n",
       "      <th>rate_upper</th>\n",
       "    </tr>\n",
       "  </thead>\n",
       "  <tbody>\n",
       "    <tr>\n",
       "      <th>0</th>\n",
       "      <td>Event-01</td>\n",
       "      <td>RE</td>\n",
       "      <td>Compressor-2</td>\n",
       "      <td>2024-01-10 07:30:00</td>\n",
       "      <td>2024-03-18 09:15:00</td>\n",
       "      <td>1633.750000</td>\n",
       "      <td>1.835673</td>\n",
       "      <td>2999.031431</td>\n",
       "      <td>False</td>\n",
       "      <td>0.0</td>\n",
       "      <td>0.0</td>\n",
       "      <td>1.101404</td>\n",
       "      <td>1.101404</td>\n",
       "    </tr>\n",
       "    <tr>\n",
       "      <th>1</th>\n",
       "      <td>Event-02</td>\n",
       "      <td>RE</td>\n",
       "      <td>Compressor-3</td>\n",
       "      <td>2024-01-08 09:35:00</td>\n",
       "      <td>2024-02-29 17:25:00</td>\n",
       "      <td>1255.833333</td>\n",
       "      <td>1.208226</td>\n",
       "      <td>1517.330272</td>\n",
       "      <td>False</td>\n",
       "      <td>0.0</td>\n",
       "      <td>0.0</td>\n",
       "      <td>0.724935</td>\n",
       "      <td>0.724935</td>\n",
       "    </tr>\n",
       "    <tr>\n",
       "      <th>2</th>\n",
       "      <td>Event-03</td>\n",
       "      <td>PRE</td>\n",
       "      <td>A</td>\n",
       "      <td>2024-04-01 16:14:00</td>\n",
       "      <td>2024-04-30 23:59:00</td>\n",
       "      <td>116.750000</td>\n",
       "      <td>38.500000</td>\n",
       "      <td>27094.375000</td>\n",
       "      <td>True</td>\n",
       "      <td>112.0</td>\n",
       "      <td>490.0</td>\n",
       "      <td>23.100000</td>\n",
       "      <td>23.100000</td>\n",
       "    </tr>\n",
       "    <tr>\n",
       "      <th>3</th>\n",
       "      <td>Event-04</td>\n",
       "      <td>RE</td>\n",
       "      <td>Compressor-3</td>\n",
       "      <td>2024-01-01 04:25:00</td>\n",
       "      <td>2024-01-01 04:35:00</td>\n",
       "      <td>0.166667</td>\n",
       "      <td>1096.777584</td>\n",
       "      <td>182.796264</td>\n",
       "      <td>False</td>\n",
       "      <td>0.0</td>\n",
       "      <td>0.0</td>\n",
       "      <td>658.066550</td>\n",
       "      <td>658.066550</td>\n",
       "    </tr>\n",
       "    <tr>\n",
       "      <th>4</th>\n",
       "      <td>Event-05</td>\n",
       "      <td>RE</td>\n",
       "      <td>Tank-1</td>\n",
       "      <td>2024-01-01 13:34:00</td>\n",
       "      <td>2024-01-01 13:40:00</td>\n",
       "      <td>0.100000</td>\n",
       "      <td>2312.586900</td>\n",
       "      <td>231.258690</td>\n",
       "      <td>False</td>\n",
       "      <td>0.0</td>\n",
       "      <td>0.0</td>\n",
       "      <td>1387.552140</td>\n",
       "      <td>1387.552140</td>\n",
       "    </tr>\n",
       "  </tbody>\n",
       "</table>\n",
       "</div>"
      ],
      "text/plain": [
       "   event_ID event_type        source           start_time  \\\n",
       "0  Event-01         RE  Compressor-2  2024-01-10 07:30:00   \n",
       "1  Event-02         RE  Compressor-3  2024-01-08 09:35:00   \n",
       "2  Event-03        PRE             A  2024-04-01 16:14:00   \n",
       "3  Event-04         RE  Compressor-3  2024-01-01 04:25:00   \n",
       "4  Event-05         RE        Tank-1  2024-01-01 13:34:00   \n",
       "\n",
       "              end_time     duration         rate      quantity  \\\n",
       "0  2024-03-18 09:15:00  1633.750000     1.835673   2999.031431   \n",
       "1  2024-02-29 17:25:00  1255.833333     1.208226   1517.330272   \n",
       "2  2024-04-30 23:59:00   116.750000    38.500000  27094.375000   \n",
       "3  2024-01-01 04:35:00     0.166667  1096.777584    182.796264   \n",
       "4  2024-01-01 13:40:00     0.100000  2312.586900    231.258690   \n",
       "\n",
       "   duration_simulation  duration_lower  duration_upper   rate_lower  \\\n",
       "0                False             0.0             0.0     1.101404   \n",
       "1                False             0.0             0.0     0.724935   \n",
       "2                 True           112.0           490.0    23.100000   \n",
       "3                False             0.0             0.0   658.066550   \n",
       "4                False             0.0             0.0  1387.552140   \n",
       "\n",
       "    rate_upper  \n",
       "0     1.101404  \n",
       "1     0.724935  \n",
       "2    23.100000  \n",
       "3   658.066550  \n",
       "4  1387.552140  "
      ]
     },
     "execution_count": 4,
     "metadata": {},
     "output_type": "execute_result"
    }
   ],
   "source": [
    "df.head(5)"
   ]
  },
  {
   "cell_type": "code",
   "execution_count": 5,
   "id": "6f2051a7-961f-4ce6-81fd-631fe080f047",
   "metadata": {},
   "outputs": [
    {
     "name": "stdout",
     "output_type": "stream",
     "text": [
      "Total emissions from REs and associated uncertainty are: \n",
      "19167.558683741994 -3208.3029715833563 3208.3029715833563\n"
     ]
    }
   ],
   "source": [
    "### total emissions and uncertainty from REs\n",
    "E_REs = 0 \n",
    "U_REs_list = []\n",
    "for _,row in df.iterrows():\n",
    "    if row.event_type == \"RE\":\n",
    "        E_REs += row.rate * row.duration\n",
    "        U_REs_list.append(row.rate_lower * row.duration)\n",
    "\n",
    "U_REs = 0 \n",
    "for ure in U_REs_list: \n",
    "    U_REs += ure**2\n",
    "print (\"Total emissions from REs and associated uncertainty are: \")\n",
    "print (E_REs, -U_REs**0.5, U_REs**0.5)"
   ]
  },
  {
   "cell_type": "code",
   "execution_count": 6,
   "id": "94a8e62f-52f0-4d57-9783-e124d9caca8d",
   "metadata": {},
   "outputs": [
    {
     "name": "stdout",
     "output_type": "stream",
     "text": [
      "Total emissions from PREs and associated uncertainty are: \n",
      "24719.308952058494 -5751.638162570458 21225.889099895125\n"
     ]
    }
   ],
   "source": [
    "### total emissions and uncertainty from PREs\n",
    "E_PREs = 0 \n",
    "U_PREs_lower_list = []\n",
    "U_PREs_upper_list = []\n",
    "for _,row in df.iterrows():\n",
    "    if row.event_type == \"PRE\":\n",
    "        E_PREs += row.rate * row.duration\n",
    "        U_PREs_lower_list.append(row.rate * row.duration * ((row.rate_lower/row.rate)**2 + (row.duration_lower/row.duration)**2)**0.5)\n",
    "        U_PREs_upper_list.append(row.rate * row.duration * ((row.rate_upper/row.rate)**2 + (row.duration_upper/row.duration)**2)**0.5)\n",
    "\n",
    "U_PREs_lower = 0 \n",
    "U_PREs_upper = 0 \n",
    "for upre in U_PREs_lower_list: \n",
    "    U_PREs_lower += upre**2\n",
    "\n",
    "for upre in U_PREs_upper_list:\n",
    "    U_PREs_upper += upre**2\n",
    "print (\"Total emissions from PREs and associated uncertainty are: \")\n",
    "print (E_PREs, -U_PREs_lower**0.5, U_PREs_upper**0.5)"
   ]
  },
  {
   "cell_type": "code",
   "execution_count": 7,
   "id": "e702f881-e2d4-4d32-9ebf-0287f886a129",
   "metadata": {},
   "outputs": [
    {
     "name": "stdout",
     "output_type": "stream",
     "text": [
      "Total emissions from UEs and associated uncertainty are: \n",
      "35.22616276838076 -32.416275587997944 920.9016131660466\n"
     ]
    }
   ],
   "source": [
    "### Simulated emissions from unresolved events\n",
    "print (\"Total emissions from UEs and associated uncertainty are: \")\n",
    "print (35.22616276838076, 2.809887180382818 - 35.22616276838076, 956.1277759344273 - 35.22616276838076)\n"
   ]
  },
  {
   "cell_type": "code",
   "execution_count": 8,
   "id": "952d2fed-a27d-4203-916f-2624cb3087df",
   "metadata": {},
   "outputs": [
    {
     "name": "stdout",
     "output_type": "stream",
     "text": [
      "43922.09379856887\n",
      "-6586.015512093064\n",
      "21486.731622553696\n"
     ]
    }
   ],
   "source": [
    "### total emissions and uncertainty\n",
    "print(E_REs + E_PREs + 35.22616276838076)\n",
    "print(-(3208.3029715833563**2 + 5751.638162570458**2 + 32.416275587997944**2)**0.5)\n",
    "print((3208.3029715833563**2 + 21225.889099895125**2 + 920.9016131660466**2)**0.5)"
   ]
  },
  {
   "cell_type": "code",
   "execution_count": 9,
   "id": "2d737cf1-fcca-44de-bade-db40a8c96426",
   "metadata": {},
   "outputs": [
    {
     "name": "stdout",
     "output_type": "stream",
     "text": [
      "37336.07828647581 65408.82542112257\n"
     ]
    }
   ],
   "source": [
    "print (43922.09379856887 - 6586.015512093064, 43922.09379856887 + 21486.731622553696)"
   ]
  },
  {
   "cell_type": "code",
   "execution_count": 11,
   "id": "c92d3fa5-2868-462b-a61b-a2857bceae51",
   "metadata": {},
   "outputs": [
    {
     "data": {
      "image/png": "[encoded data removed]",
      "text/plain": [
       "<Figure size 1500x500 with 1 Axes>"
      ]
     },
     "metadata": {},
     "output_type": "display_data"
    }
   ],
   "source": [
    "plt.figure(figsize=(15, 5))\n",
    "categories = ['Emissions from REs', 'Emissions from PREs', \n",
    "              'Emissions from UEs', \"Total Emissions\"]\n",
    "values = [19167.558683741994, 24719.308952058494, 35.22616276838076, 43922.09379856887]\n",
    "errors = [[3208.3029715833563, 5751.638162570458, 32.416275587997944, 6586.015512093064],\n",
    "          [3208.3029715833563, 21225.889099895125, 920.9016131660466, 21486.731622553696]]\n",
    "bar_width = 0.55\n",
    "colors = ['darkcyan', 'darkcyan', 'darkcyan', 'salmon']\n",
    "index = np.arange(len(categories))\n",
    "plt.barh(index, values, xerr=errors, height=bar_width, color=colors , capsize=5)\n",
    "#plt.ylabel('Categories')\n",
    "plt.xlabel('Emissions (kg)', fontsize=12)\n",
    "plt.yticks(index, categories, fontsize=12)\n",
    "plt.savefig(\"reconciled_results_case_study_1.png\",dpi=600)"
   ]
  },
  {
   "cell_type": "code",
   "execution_count": null,
   "id": "a112ec2b-a9ea-4dcd-847d-2a09a817fe7d",
   "metadata": {},
   "outputs": [],
   "source": []
  }
 ],
 "metadata": {
  "kernelspec": {
   "display_name": "Python 3 (ipykernel)",
   "language": "python",
   "name": "python3"
  },
  "language_info": {
   "codemirror_mode": {
    "name": "ipython",
    "version": 3
   },
   "file_extension": ".py",
   "mimetype": "text/x-python",
   "name": "python",
   "nbconvert_exporter": "python",
   "pygments_lexer": "ipython3",
   "version": "3.10.14"
  }
 },
 "nbformat": 4,
 "nbformat_minor": 5
}
