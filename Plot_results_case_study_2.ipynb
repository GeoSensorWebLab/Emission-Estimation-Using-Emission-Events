{
 "cells": [
  {
   "cell_type": "code",
   "execution_count": 1,
   "id": "14a5aed4-ddf1-4690-a8a1-8415f21f5229",
   "metadata": {},
   "outputs": [],
   "source": [
    "import pandas as pd \n",
    "import matplotlib.pyplot as plt \n",
    "import numpy as np "
   ]
  },
  {
   "cell_type": "code",
   "execution_count": 2,
   "id": "da6b628b-1595-46cd-a46a-fcf1fceed7f2",
   "metadata": {},
   "outputs": [],
   "source": [
    "df = pd.read_csv(\"events_with_uncertianty_case_study_2.csv\")"
   ]
  },
  {
   "cell_type": "code",
   "execution_count": 3,
   "id": "a0cbfac4-31c5-4008-9eaf-dd774cf0e6cc",
   "metadata": {},
   "outputs": [
    {
     "data": {
      "text/html": [
       "<div>\n",
       "<style scoped>\n",
       "    .dataframe tbody tr th:only-of-type {\n",
       "        vertical-align: middle;\n",
       "    }\n",
       "\n",
       "    .dataframe tbody tr th {\n",
       "        vertical-align: top;\n",
       "    }\n",
       "\n",
       "    .dataframe thead th {\n",
       "        text-align: right;\n",
       "    }\n",
       "</style>\n",
       "<table border=\"1\" class=\"dataframe\">\n",
       "  <thead>\n",
       "    <tr style=\"text-align: right;\">\n",
       "      <th></th>\n",
       "      <th>event_type</th>\n",
       "      <th>duration</th>\n",
       "      <th>detection_time</th>\n",
       "      <th>start_time</th>\n",
       "      <th>end_time</th>\n",
       "      <th>id</th>\n",
       "      <th>source</th>\n",
       "      <th>quantity</th>\n",
       "      <th>rate</th>\n",
       "      <th>equipment_type</th>\n",
       "      <th>duration_lower</th>\n",
       "      <th>duration_upper</th>\n",
       "      <th>rate_lower</th>\n",
       "      <th>rate_upper</th>\n",
       "    </tr>\n",
       "  </thead>\n",
       "  <tbody>\n",
       "    <tr>\n",
       "      <th>0</th>\n",
       "      <td>PRE</td>\n",
       "      <td>16.500000</td>\n",
       "      <td>2024-01-01 02:16:00</td>\n",
       "      <td>2024-01-01 02:16:00</td>\n",
       "      <td>2024-01-01 18:46:00</td>\n",
       "      <td>Event-1</td>\n",
       "      <td>Compressor-3</td>\n",
       "      <td>221.717605</td>\n",
       "      <td>13.437431</td>\n",
       "      <td>Compressor</td>\n",
       "      <td>0</td>\n",
       "      <td>33.000000</td>\n",
       "      <td>8.062458</td>\n",
       "      <td>8.062458</td>\n",
       "    </tr>\n",
       "    <tr>\n",
       "      <th>1</th>\n",
       "      <td>PRE</td>\n",
       "      <td>7.333333</td>\n",
       "      <td>2024-01-01 17:12:00</td>\n",
       "      <td>2024-01-01 17:12:00</td>\n",
       "      <td>2024-01-02 00:32:00</td>\n",
       "      <td>Event-2</td>\n",
       "      <td>Compressor-2</td>\n",
       "      <td>81.061078</td>\n",
       "      <td>11.053783</td>\n",
       "      <td>Compressor</td>\n",
       "      <td>0</td>\n",
       "      <td>14.666667</td>\n",
       "      <td>6.632270</td>\n",
       "      <td>6.632270</td>\n",
       "    </tr>\n",
       "  </tbody>\n",
       "</table>\n",
       "</div>"
      ],
      "text/plain": [
       "  event_type   duration       detection_time           start_time  \\\n",
       "0        PRE  16.500000  2024-01-01 02:16:00  2024-01-01 02:16:00   \n",
       "1        PRE   7.333333  2024-01-01 17:12:00  2024-01-01 17:12:00   \n",
       "\n",
       "              end_time       id        source    quantity       rate  \\\n",
       "0  2024-01-01 18:46:00  Event-1  Compressor-3  221.717605  13.437431   \n",
       "1  2024-01-02 00:32:00  Event-2  Compressor-2   81.061078  11.053783   \n",
       "\n",
       "  equipment_type  duration_lower  duration_upper  rate_lower  rate_upper  \n",
       "0     Compressor               0       33.000000    8.062458    8.062458  \n",
       "1     Compressor               0       14.666667    6.632270    6.632270  "
      ]
     },
     "execution_count": 3,
     "metadata": {},
     "output_type": "execute_result"
    }
   ],
   "source": [
    "df.head(2)"
   ]
  },
  {
   "cell_type": "code",
   "execution_count": 4,
   "id": "eb9ed1b6-c45b-4d64-9b8b-fd4a7224b96b",
   "metadata": {},
   "outputs": [
    {
     "name": "stdout",
     "output_type": "stream",
     "text": [
      "Total emissions from PREs and associated uncertainty are: \n",
      "12752.899311616686 -2434.553750186221 8472.495788120596\n"
     ]
    }
   ],
   "source": [
    "### total emissions and uncertainty from PREs\n",
    "E_PREs = 0 \n",
    "U_PREs_lower_list = []\n",
    "U_PREs_upper_list = []\n",
    "for _,row in df.iterrows():\n",
    "    if row.event_type == \"PRE\":\n",
    "        E_PREs += row.rate * row.duration\n",
    "        U_PREs_lower_list.append(row.rate * row.duration * ((row.rate_lower/row.rate)**2 + (row.duration_lower/row.duration)**2)**0.5)\n",
    "        U_PREs_upper_list.append(row.rate * row.duration * ((row.rate_upper/row.rate)**2 + (row.duration_upper/row.duration)**2)**0.5)\n",
    "\n",
    "U_PREs_lower = 0 \n",
    "U_PREs_upper = 0 \n",
    "for upre in U_PREs_lower_list: \n",
    "    U_PREs_lower += upre**2\n",
    "\n",
    "for upre in U_PREs_upper_list:\n",
    "    U_PREs_upper += upre**2\n",
    "print (\"Total emissions from PREs and associated uncertainty are: \")\n",
    "print (E_PREs, -U_PREs_lower**0.5, U_PREs_upper**0.5)"
   ]
  },
  {
   "cell_type": "code",
   "execution_count": 5,
   "id": "02d18c81-d8cf-411b-8df9-834289f67dfc",
   "metadata": {},
   "outputs": [
    {
     "data": {
      "text/plain": [
       "21225.39509973728"
      ]
     },
     "execution_count": 5,
     "metadata": {},
     "output_type": "execute_result"
    }
   ],
   "source": [
    "12752.899311616686 + 8472.495788120596"
   ]
  },
  {
   "cell_type": "code",
   "execution_count": 6,
   "id": "654f95b9-951c-419c-a7d3-feaf6790c205",
   "metadata": {},
   "outputs": [
    {
     "name": "stdout",
     "output_type": "stream",
     "text": [
      "890185.1218787591 -> [834597.2043900426,970192.8451620813]\n"
     ]
    }
   ],
   "source": [
    "#95% confidence interval\n",
    "print(890185.1218787591,\"->\" ,f\"[{890185.1218787591-55587.91748871652},{890185.1218787591+80007.72328332221}]\")"
   ]
  },
  {
   "cell_type": "code",
   "execution_count": 7,
   "id": "e3451df9-6d87-4cd8-adec-ea9d0820e699",
   "metadata": {},
   "outputs": [
    {
     "name": "stdout",
     "output_type": "stream",
     "text": [
      "902938.0211903758\n",
      "-55641.20436057169\n",
      "80455.07423314195\n"
     ]
    }
   ],
   "source": [
    "### total emissions and uncertainty\n",
    "print(E_PREs + 890185.1218787591)\n",
    "print(-(2434.553750186221**2 + 55587.91748871652**2)**0.5)\n",
    "print((8472.495788120596**2 + 80007.72328332221**2)**0.5)"
   ]
  },
  {
   "cell_type": "code",
   "execution_count": 8,
   "id": "71c1b8f7-ccf2-429a-bb2f-10297b69e448",
   "metadata": {},
   "outputs": [
    {
     "data": {
      "text/plain": [
       "983393.0954235177"
      ]
     },
     "execution_count": 8,
     "metadata": {},
     "output_type": "execute_result"
    }
   ],
   "source": [
    "902938.0211903758 + 80455.07423314195"
   ]
  },
  {
   "cell_type": "code",
   "execution_count": 9,
   "id": "128b18d4-1d90-42e8-893c-00275787bbd2",
   "metadata": {},
   "outputs": [
    {
     "data": {
      "image/png": "[encoded data removed]",
      "text/plain": [
       "<Figure size 1500x500 with 1 Axes>"
      ]
     },
     "metadata": {},
     "output_type": "display_data"
    }
   ],
   "source": [
    "plt.figure(figsize=(15, 5))\n",
    "categories = [ 'Emissions from PREs','Emissions from UEs', \"Total Emissions\"]\n",
    "values = [12752.899311616686, 890185.1218787591, 902938.0211903758]\n",
    "errors = [[2434.553750186221, 55587.91748871652, 55641.20436057169],\n",
    "          [8472.495788120596, 80007.72328332221, 80455.07423314195]]\n",
    "bar_width = 0.55\n",
    "colors = ['darkcyan', 'darkcyan', 'salmon']\n",
    "index = np.arange(len(categories))\n",
    "plt.barh(index, values, xerr=errors, height=bar_width, color=colors , capsize=5)\n",
    "#plt.ylabel('Categories')\n",
    "plt.xlabel('Emissions (kg)', fontsize=12)\n",
    "plt.yticks(index, categories, fontsize=12)\n",
    "plt.savefig(\"reconciled_results_case_study_2.png\",dpi=600)"
   ]
  },
  {
   "cell_type": "code",
   "execution_count": null,
   "id": "5448b19d-97c3-490a-88bb-f8b9e7b73f58",
   "metadata": {},
   "outputs": [],
   "source": []
  }
 ],
 "metadata": {
  "kernelspec": {
   "display_name": "Python 3 (ipykernel)",
   "language": "python",
   "name": "python3"
  },
  "language_info": {
   "codemirror_mode": {
    "name": "ipython",
    "version": 3
   },
   "file_extension": ".py",
   "mimetype": "text/x-python",
   "name": "python",
   "nbconvert_exporter": "python",
   "pygments_lexer": "ipython3",
   "version": "3.10.14"
  }
 },
 "nbformat": 4,
 "nbformat_minor": 5
}
